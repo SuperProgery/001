{
 "cells": [
  {
   "cell_type": "code",
   "execution_count": null,
   "id": "0c91a5b6",
   "metadata": {},
   "outputs": [
    {
     "name": "stdout",
     "output_type": "stream",
     "text": [
      "Чтобы повторить введите \"Да\", для выхода нажмите введите \"Нет\",если хотите съесть печеньку, введите \"Печеньки\"Да\n",
      "Цикл повторяется\n",
      "Чтобы повторить введите \"Да\", для выхода нажмите введите \"Нет\",если хотите съесть печеньку, введите \"Печеньки\"Да\n",
      "Цикл повторяется\n",
      "Чтобы повторить введите \"Да\", для выхода нажмите введите \"Нет\",если хотите съесть печеньку, введите \"Печеньки\"Печеньки\n",
      "Съели печеньку\n"
     ]
    }
   ],
   "source": [
    "flag = True\n",
    "while (flag):\n",
    "    repeat = input('Чтобы повторить введите \"Да\", '+\n",
    "                   'для выхода нажмите введите \"Нет\",'+\n",
    "                  'если хотите съесть печеньку, введите \"Печеньки\"')\n",
    "    if repeat == 'Да':\n",
    "        print('Цикл повторяется')\n",
    "    elif repeat == 'Печеньки':\n",
    "        print('Съели печеньку')\n",
    "    else:\n",
    "        flag = False\n",
    "        print('Вышли из цикла')"
   ]
  },
  {
   "cell_type": "code",
   "execution_count": null,
   "id": "86c7e7d4",
   "metadata": {},
   "outputs": [],
   "source": []
  }
 ],
 "metadata": {
  "kernelspec": {
   "display_name": "Python 3",
   "language": "python",
   "name": "python3"
  },
  "language_info": {
   "codemirror_mode": {
    "name": "ipython",
    "version": 3
   },
   "file_extension": ".py",
   "mimetype": "text/x-python",
   "name": "python",
   "nbconvert_exporter": "python",
   "pygments_lexer": "ipython3",
   "version": "3.8.8"
  }
 },
 "nbformat": 4,
 "nbformat_minor": 5
}
